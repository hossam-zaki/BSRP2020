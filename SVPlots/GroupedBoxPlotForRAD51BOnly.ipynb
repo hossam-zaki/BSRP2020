{
 "cells": [
  {
   "cell_type": "markdown",
   "metadata": {},
   "source": [
    "# Grouped Box Plot for RAD51B only"
   ]
  },
  {
   "cell_type": "code",
   "execution_count": 1,
   "metadata": {},
   "outputs": [],
   "source": [
    "%matplotlib inline\n",
    "\n",
    "import json\n",
    "import urllib\n",
    "\n",
    "import matplotlib.pyplot as plt\n",
    "import numpy as np\n",
    "import pandas as pd\n",
    "from matplotlib.patches import Polygon\n",
    "from scipy import stats\n",
    "\n",
    "import dataParser as parser\n",
    "import helperFiles.buildPlot as plotBuilder"
   ]
  },
  {
   "cell_type": "markdown",
   "metadata": {},
   "source": [
    "Load in CSV file data"
   ]
  },
  {
   "cell_type": "code",
   "execution_count": 2,
   "metadata": {},
   "outputs": [],
   "source": [
    "df = pd.read_csv('../merged_1.6.1.csv')"
   ]
  },
  {
   "cell_type": "code",
   "execution_count": 3,
   "metadata": {},
   "outputs": [],
   "source": [
    "data = []\n",
    "labels = []\n",
    "inputs = ['RAD51B']\n"
   ]
  },
  {
   "cell_type": "markdown",
   "metadata": {},
   "source": [
    "Retrieve data"
   ]
  },
  {
   "cell_type": "code",
   "execution_count": 4,
   "metadata": {},
   "outputs": [
    {
     "name": "stdout",
     "output_type": "stream",
     "text": [
      "RAD51B\n",
      "Ttest_indResult(statistic=13.906320764153257, pvalue=2.085113142152007e-42)\n"
     ]
    }
   ],
   "source": [
    "for gene in inputs:\n",
    "    print(gene)\n",
    "    all_donors = df['donor_unique_id'].unique()\n",
    "    donorsInGene = parser.getDonors(gene)\n",
    "    diffDonors = parser.diff(all_donors, donorsInGene)\n",
    "\n",
    "    affected = []\n",
    "    notaffected = []\n",
    "\n",
    "    for donor in donorsInGene:\n",
    "        donorDF = df[(df['donor_unique_id'] == donor)]\n",
    "        affected.append(len(donorDF.index))\n",
    "\n",
    "    for donor in diffDonors:\n",
    "        donorDF = df[(df['donor_unique_id'] == donor)]\n",
    "        notaffected.append(len(donorDF.index))\n",
    "\n",
    "    data.append(notaffected)\n",
    "    data.append(affected)\n",
    "    labels.append(\"Regular \" + gene)\n",
    "    labels.append(gene)\n",
    "    print(stats.ttest_ind(affected, notaffected))"
   ]
  },
  {
   "cell_type": "code",
   "execution_count": 25,
   "metadata": {},
   "outputs": [
    {
     "data": {
      "text/plain": [
       "[Text(0, 0, 'Regular RAD51B'), Text(0, 0, 'RAD51B')]"
      ]
     },
     "execution_count": 25,
     "metadata": {},
     "output_type": "execute_result"
    },
    {
     "data": {
      "image/png": "[encoded data removed]",
      "text/plain": [
       "<Figure size 720x720 with 1 Axes>"
      ]
     },
     "metadata": {
      "needs_background": "light"
     },
     "output_type": "display_data"
    }
   ],
   "source": [
    "fig, ax1 = plt.subplots(figsize=(10, 10))\n",
    "\n",
    "bp = ax1.boxplot(data, notch=0, sym='+', vert=1, whis=1.5, showmeans=True, positions = [1, 1.25])\n",
    "\n",
    "plt.setp(bp['boxes'], color='black')\n",
    "plt.setp(bp['whiskers'], color='black')\n",
    "plt.setp(bp['fliers'], color='red', marker='+')\n",
    "\n",
    "ax1.yaxis.grid(True, linestyle='-', which='major', color='lightgrey',\n",
    "               alpha=0.5)\n",
    "\n",
    "ax1.set_axisbelow(True)\n",
    "ax1.set_title(\n",
    "    'Number of SVs Per Donor In Regular Gene vs Mutated')\n",
    "ax1.set_xlabel('Gene')\n",
    "ax1.set_ylabel('Number of SVs Per Donor')\n",
    "\n",
    "ax1.set_xticklabels(labels,\n",
    "                    rotation=90, fontsize=18)\n"
   ]
  },
  {
   "cell_type": "code",
   "execution_count": null,
   "metadata": {},
   "outputs": [],
   "source": []
  }
 ],
 "metadata": {
  "kernelspec": {
   "display_name": "Python 3",
   "language": "python",
   "name": "python3"
  },
  "language_info": {
   "codemirror_mode": {
    "name": "ipython",
    "version": 3
   },
   "file_extension": ".py",
   "mimetype": "text/x-python",
   "name": "python",
   "nbconvert_exporter": "python",
   "pygments_lexer": "ipython3",
   "version": "3.7.3"
  }
 },
 "nbformat": 4,
 "nbformat_minor": 4
}
