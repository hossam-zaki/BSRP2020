{
 "cells": [
  {
   "cell_type": "code",
   "execution_count": 28,
   "metadata": {},
   "outputs": [
    {
     "data": {
      "image/png": "[encoded data removed]",
      "text/plain": [
       "<Figure size 432x288 with 1 Axes>"
      ]
     },
     "metadata": {
      "needs_background": "light"
     },
     "output_type": "display_data"
    }
   ],
   "source": [
    "import numpy as np\n",
    "import matplotlib.pyplot as plt\n",
    "\n",
    "#--- the two samples ---\n",
    "samples1 = [1, 1, 1, 3, 2, 5, 1, 10, 10, 8]\n",
    "samples2 = [6, 6, 6, 1, 2, 3, 9, 12 ] \n",
    "samples3 = [1, 2, 3, 4, 5, 6, 7, 8, 9, 10, 10, 11, 12]\n",
    "\n",
    "N = 12 # number of bins\n",
    "hist1 = np.array([0] * N )\n",
    "hist2 = np.array([0] * N )\n",
    "hist3 = np.array([0] * N )\n",
    "\n",
    "#--- create two histogram. Values of 1 go in Bin 0 ---\n",
    "hist1, n = np.histogram(samples1,N)\n",
    "hist2, n = np.histogram(samples2,N)\n",
    "hist3, n = np.histogram(samples3,N)\n",
    "\n",
    "#--- display the bar-graph ---        \n",
    "width = 1\n",
    "p1 = plt.bar( np.arange(0,N)+0.5, hist1, width, color='#9932cc' )\n",
    "p2 = plt.bar( np.arange(0,N)+0.5, hist2, width, color='#ffa500', bottom=hist1 )\n",
    "p3 = plt.bar( np.arange(0,N)+0.5, hist3, width, color='#d2691e', bottom=hist1+hist2 )\n",
    "plt.legend( (p1[0], p2[0], p3[0]), ( '2010', '2011', '2012' ) )\n",
    "plt.xlabel( 'Bins' )\n",
    "plt.ylabel( 'Count' )\n",
    "import datetime\n",
    "months = [((datetime.date(2010, i, 1).strftime('%B'))[:3]) for i in range(1,13)]\n",
    "plt.xticks( np.arange( 1,N+1 ),months )\n",
    "plt.axis( [width/2.0, N+width/2.0, 0, max( hist1+hist2+hist3)] )\n",
    "plt.show()"
   ]
  },
  {
   "cell_type": "code",
   "execution_count": 9,
   "metadata": {},
   "outputs": [],
   "source": [
    "import json\n",
    "import urllib\n",
    "\n",
    "import matplotlib.pyplot as plt\n",
    "import numpy as np\n",
    "import pandas as pd\n",
    "from matplotlib.patches import Polygon\n",
    "from scipy import stats\n",
    "\n",
    "import dataParser as parser\n",
    "import helperFiles.buildPlot as plotBuilder"
   ]
  },
  {
   "cell_type": "code",
   "execution_count": 11,
   "metadata": {},
   "outputs": [
    {
     "name": "stdout",
     "output_type": "stream",
     "text": [
      "XRCC6\n",
      "XRCC5\n",
      "PRKDC\n",
      "LIG4\n",
      "XRCC4\n",
      "DCLRE1C\n",
      "NHEJ1\n",
      "MRE11\n",
      "RAD50\n",
      "NBN\n",
      "RBBP8\n",
      "ERCC4\n",
      "ERCC1\n",
      "LIG1\n",
      "POLL\n",
      "POLB\n",
      "PARP1\n",
      "LIG3\n",
      "XRCC1\n",
      "RAD51\n",
      "RAD51B\n",
      "RAD51D\n",
      "DMC1\n",
      "XRCC2\n",
      "XRCC3\n",
      "RAD52\n",
      "RAD54L\n",
      "RAD54B\n",
      "BRCA1\n",
      "SHFM1\n",
      "HTTP Error 400: Bad Request\n",
      "https://rest.ensembl.org/lookup/symbol/homo_sapiens/SHFM1?content-type=application/json;expand=1\n",
      "symb got fricked\n",
      "MUS81\n",
      "EME1\n",
      "EME2\n",
      "GIYD1\n",
      "HTTP Error 400: Bad Request\n",
      "https://rest.ensembl.org/lookup/symbol/homo_sapiens/GIYD1?content-type=application/json;expand=1\n",
      "symb got fricked\n",
      "GIYD2\n",
      "HTTP Error 400: Bad Request\n",
      "https://rest.ensembl.org/lookup/symbol/homo_sapiens/GIYD2?content-type=application/json;expand=1\n",
      "symb got fricked\n",
      "GEN1\n",
      "UNG\n",
      "SMUG1\n",
      "MBD4\n",
      "TDG\n",
      "OGG1\n",
      "MUTYH\n",
      "NTHL1\n",
      "MPG\n",
      "NEIL1\n",
      "NEIL2\n",
      "NEIL3\n",
      "APEX1\n",
      "APEX2\n",
      "invalid literal for int() with base 10: 'X'\n",
      "https://rest.ensembl.org/lookup/symbol/homo_sapiens/APEX2?content-type=application/json;expand=1\n",
      "symb got fricked\n",
      "PNKP\n",
      "APLF\n",
      "PARP2\n",
      "PARP3\n",
      "MGMT\n",
      "ALKBH2\n",
      "ALKBH3\n",
      "TDP1\n",
      "TDP2\n",
      "MSH2\n",
      "MSH3\n",
      "MSH6\n",
      "MLH1\n",
      "PMS2\n",
      "MSH4\n",
      "MSH5\n",
      "MLH3\n",
      "PMS1\n",
      "PMS2L3\n",
      "HTTP Error 400: Bad Request\n",
      "https://rest.ensembl.org/lookup/symbol/homo_sapiens/PMS2L3?content-type=application/json;expand=1\n",
      "symb got fricked\n",
      "RAD23B\n",
      "CETN2\n",
      "invalid literal for int() with base 10: 'X'\n",
      "https://rest.ensembl.org/lookup/symbol/homo_sapiens/CETN2?content-type=application/json;expand=1\n",
      "symb got fricked\n",
      "RAD23A\n",
      "XPA\n",
      "DDB1\n",
      "DDB2\n",
      "RPA1\n",
      "RPA2\n",
      "RPA3\n",
      "TFIIH\n",
      "HTTP Error 400: Bad Request\n",
      "https://rest.ensembl.org/lookup/symbol/homo_sapiens/TFIIH?content-type=application/json;expand=1\n",
      "symb got fricked\n",
      "ERCC3\n",
      "ERCC2\n",
      "GTF2H1\n",
      "GTF2H2\n",
      "GTF2H3\n",
      "GTF2H4\n",
      "GTF2H5\n",
      "CDK7\n",
      "CCNH\n",
      "MNAT1\n",
      "ERCC5\n",
      "ERCC8\n",
      "ERCC6\n",
      "UVSSA\n",
      "XAB2\n",
      "MMS19\n",
      "FANCA\n",
      "FANCB\n",
      "invalid literal for int() with base 10: 'X'\n",
      "https://rest.ensembl.org/lookup/symbol/homo_sapiens/FANCB?content-type=application/json;expand=1\n",
      "symb got fricked\n",
      "FANCC\n",
      "BRCA2\n",
      "FANCD2\n",
      "FANCE\n",
      "FANCF\n",
      "FANCG\n",
      "FANCI\n",
      "BRIP1\n",
      "FANCL\n",
      "FANCM\n",
      "PALB2\n",
      "RAD51C\n",
      "BTBD12\n",
      "HTTP Error 400: Bad Request\n",
      "https://rest.ensembl.org/lookup/symbol/homo_sapiens/BTBD12?content-type=application/json;expand=1\n",
      "symb got fricked\n",
      "FAAP20\n",
      "FAAP24\n",
      "NUDT1\n",
      "DUT\n",
      "RRM2B\n",
      "POLG\n",
      "POLD1\n",
      "POLE\n",
      "PCNA\n",
      "REV3L\n",
      "MAD2L2\n",
      "REV1L\n",
      "HTTP Error 400: Bad Request\n",
      "https://rest.ensembl.org/lookup/symbol/homo_sapiens/REV1L?content-type=application/json;expand=1\n",
      "symb got fricked\n",
      "POLH\n",
      "POLI\n",
      "POLQ\n",
      "POLK\n",
      "POLM\n",
      "POLN\n",
      "FEN1\n",
      "FAN1\n",
      "TREX1\n",
      "TREX2\n",
      "invalid literal for int() with base 10: 'X'\n",
      "https://rest.ensembl.org/lookup/symbol/homo_sapiens/TREX2?content-type=application/json;expand=1\n",
      "symb got fricked\n",
      "EXO1\n",
      "APTX\n",
      "SPO11\n",
      "ENDOV\n",
      "UBE2A\n",
      "invalid literal for int() with base 10: 'X'\n",
      "https://rest.ensembl.org/lookup/symbol/homo_sapiens/UBE2A?content-type=application/json;expand=1\n",
      "symb got fricked\n",
      "UBE2B\n",
      "RAD18\n",
      "SHPRH\n",
      "HLTF\n",
      "RNF168\n",
      "SPRTN\n",
      "RNF8\n",
      "RNF4\n",
      "UBE2V2\n",
      "UBE2N\n",
      "H2AFX\n",
      "HTTP Error 400: Bad Request\n",
      "https://rest.ensembl.org/lookup/symbol/homo_sapiens/H2AFX?content-type=application/json;expand=1\n",
      "symb got fricked\n",
      "CHAF1A\n",
      "SETMAR\n",
      "ATR\n",
      "ATRIP\n",
      "MDC1\n",
      "RAD1\n",
      "RAD9A\n",
      "HUS1\n",
      "RAD17\n",
      "CHEK1\n",
      "CHEK2\n",
      "TP53\n",
      "TP53BP1\n",
      "RIF1\n",
      "TOPBP1\n",
      "CLK2\n",
      "PER1\n"
     ]
    }
   ],
   "source": [
    "samples = parser.samples\n",
    "s = set()\n",
    "labels = []\n",
    "data = []\n",
    "counter = 0\n",
    "for i in samples:\n",
    "    for gene in samples[i]:\n",
    "        if(gene in s):\n",
    "            continue\n",
    "        print(gene)\n",
    "        toAdd = parser.getNumOfDonorsWithBuckets(gene)\n",
    "        if(toAdd == None):\n",
    "            continue\n",
    "        else:\n",
    "            s.add(gene)\n",
    "            labels.append(gene)\n",
    "            data.append(np.histogram(toAdd)[0])"
   ]
  },
  {
   "cell_type": "code",
   "execution_count": 12,
   "metadata": {},
   "outputs": [
    {
     "name": "stdout",
     "output_type": "stream",
     "text": [
      "[array([13,  0,  0,  0,  0,  0,  0,  0,  0,  1]), array([8, 0, 0, 0, 0, 0, 0, 0, 0, 1]), array([16,  0,  0,  0,  0,  5,  0,  0,  0,  2]), array([0, 0, 0, 0, 0, 1, 0, 0, 0, 0]), array([12,  0,  4,  0,  0,  0,  0,  1,  0,  2]), array([8, 0, 0, 0, 0, 1, 0, 0, 0, 1]), array([13,  0,  0,  0,  0,  3,  0,  0,  0,  1]), array([0, 0, 0, 0, 0, 8, 0, 0, 0, 0]), array([3, 0, 0, 0, 0, 1, 0, 0, 0, 1]), array([12,  0,  0,  0,  0,  1,  0,  0,  0,  1]), array([37,  6,  3,  3,  0,  0,  0,  0,  0,  1]), array([0, 0, 0, 0, 0, 1, 0, 0, 0, 0]), array([18,  0,  0,  0,  0,  2,  0,  0,  0,  1]), array([5, 0, 0, 0, 0, 0, 0, 0, 0, 1]), array([0, 0, 0, 0, 0, 3, 0, 0, 0, 0]), array([14,  0,  0,  3,  0,  0,  0,  0,  0,  1]), array([14,  0,  0,  0,  0,  1,  0,  0,  0,  1]), array([5, 0, 0, 0, 0, 0, 0, 0, 0, 1]), array([9, 0, 0, 0, 0, 0, 0, 0, 0, 1]), array([0, 0, 0, 0, 0, 2, 0, 0, 0, 0]), array([95, 19,  0,  7,  0,  2,  1,  0,  0,  1]), array([3, 0, 0, 0, 0, 0, 0, 0, 0, 1]), array([12,  0,  0,  0,  0,  0,  0,  0,  0,  4]), array([0, 0, 0, 0, 0, 3, 0, 0, 0, 0]), array([0, 0, 0, 0, 0, 3, 0, 0, 0, 0]), array([13,  0,  0,  0,  0,  2,  0,  0,  0,  1]), array([0, 0, 0, 0, 0, 3, 0, 0, 0, 0]), array([10,  0,  0,  1,  0,  0,  1,  0,  0,  1]), array([17,  0,  0,  0,  0,  5,  0,  0,  0,  2]), array([3, 0, 0, 0, 0, 0, 0, 0, 0, 1]), array([0, 0, 0, 0, 0, 1, 0, 0, 0, 0]), array([2, 0, 0, 0, 0, 0, 0, 0, 0, 1]), array([6, 0, 0, 0, 0, 0, 0, 0, 0, 1]), array([0, 0, 0, 0, 0, 2, 0, 0, 0, 0]), array([13,  0,  0,  1,  0,  0,  0,  0,  0,  1]), array([0, 0, 0, 0, 0, 0, 0, 0, 0, 0]), array([0, 0, 0, 0, 0, 2, 0, 0, 0, 0]), array([5, 0, 0, 0, 0, 0, 0, 0, 0, 1]), array([0, 0, 0, 0, 0, 1, 0, 0, 0, 0]), array([0, 0, 0, 0, 0, 4, 0, 0, 0, 0]), array([0, 0, 0, 0, 0, 1, 0, 0, 0, 0]), array([0, 0, 0, 0, 0, 1, 0, 0, 0, 0]), array([0, 0, 0, 0, 0, 3, 0, 0, 0, 0]), array([4, 0, 0, 0, 0, 0, 0, 0, 0, 1]), array([0, 0, 0, 0, 0, 0, 0, 0, 0, 0]), array([0, 0, 0, 0, 0, 1, 0, 0, 0, 0]), array([22,  0,  0,  3,  0,  0,  3,  0,  0,  1]), array([0, 0, 0, 0, 0, 0, 0, 0, 0, 0]), array([0, 0, 0, 0, 0, 0, 0, 0, 0, 0]), array([18,  0,  3,  0,  0,  0,  0,  0,  0,  1]), array([0, 0, 0, 0, 0, 1, 0, 0, 0, 0]), array([0, 0, 0, 0, 0, 2, 0, 0, 0, 0]), array([3, 0, 0, 0, 0, 2, 0, 0, 0, 1]), array([0, 0, 0, 0, 0, 1, 0, 0, 0, 0]), array([28,  0,  0,  0,  0,  4,  0,  0,  0,  2]), array([14,  0,  0,  0,  0,  0,  0,  0,  0,  2]), array([14,  0,  0,  0,  0,  1,  0,  0,  0,  2]), array([3, 0, 0, 0, 0, 0, 0, 0, 0, 2]), array([0, 0, 0, 0, 0, 1, 0, 0, 0, 0]), array([3, 0, 0, 1, 0, 0, 1, 0, 0, 1]), array([4, 0, 0, 0, 0, 0, 0, 0, 0, 1]), array([0, 0, 0, 0, 0, 2, 0, 0, 0, 0]), array([9, 0, 0, 0, 0, 0, 0, 0, 0, 1]), array([7, 0, 0, 0, 0, 0, 0, 0, 0, 1]), array([2, 0, 0, 0, 0, 0, 0, 0, 0, 1]), array([3, 0, 0, 0, 0, 0, 0, 0, 0, 1]), array([2, 0, 0, 0, 0, 0, 0, 0, 0, 1]), array([0, 0, 0, 0, 0, 4, 0, 0, 0, 0]), array([13,  0,  0,  1,  0,  0,  1,  0,  0,  1]), array([9, 0, 0, 0, 0, 0, 0, 0, 0, 2]), array([6, 0, 0, 0, 0, 2, 0, 0, 0, 1]), array([0, 0, 0, 0, 0, 1, 0, 0, 0, 0]), array([0, 0, 0, 0, 0, 3, 0, 0, 0, 0]), array([4, 0, 0, 0, 0, 0, 0, 0, 0, 1]), array([0, 0, 0, 0, 0, 1, 0, 0, 0, 0]), array([4, 0, 0, 0, 0, 1, 0, 0, 0, 1]), array([0, 0, 0, 0, 0, 0, 0, 0, 0, 0]), array([0, 0, 0, 0, 0, 1, 0, 0, 0, 0]), array([0, 0, 0, 0, 0, 0, 0, 0, 0, 0]), array([8, 0, 1, 0, 0, 0, 0, 0, 0, 1]), array([21,  0,  0,  0,  0,  5,  0,  0,  0,  1]), array([4, 0, 0, 0, 0, 0, 0, 0, 0, 1]), array([5, 0, 0, 1, 0, 0, 1, 0, 0, 1]), array([7, 0, 0, 0, 0, 0, 0, 0, 0, 1]), array([3, 0, 0, 0, 0, 0, 0, 0, 0, 1]), array([0, 0, 0, 0, 0, 1, 0, 0, 0, 0]), array([0, 0, 0, 0, 0, 6, 0, 0, 0, 0]), array([19,  0,  1,  0,  0,  0,  0,  1,  0,  1]), array([30,  0,  0,  0,  0,  1,  0,  0,  0,  1]), array([6, 0, 0, 0, 0, 1, 0, 0, 0, 2]), array([8, 2, 0, 0, 0, 0, 0, 0, 0, 1]), array([0, 0, 0, 0, 0, 5, 0, 0, 0, 0]), array([0, 0, 0, 0, 0, 0, 0, 0, 0, 0]), array([0, 0, 0, 0, 0, 1, 0, 0, 0, 0]), array([4, 0, 0, 0, 0, 0, 0, 0, 0, 1]), array([27,  0,  9,  0,  0,  1,  0,  2,  0,  1]), array([13,  0,  0,  0,  0,  0,  0,  0,  0,  2]), array([0, 0, 0, 0, 0, 5, 0, 0, 0, 0]), array([3, 0, 2, 0, 0, 0, 0, 0, 0, 1]), array([9, 0, 5, 0, 0, 0, 0, 0, 0, 1]), array([10,  0,  0,  0,  0,  0,  0,  0,  0,  1]), array([1, 0, 0, 0, 0, 1, 0, 0, 0, 1]), array([0, 0, 0, 0, 0, 1, 0, 0, 0, 0]), array([0, 0, 0, 0, 0, 1, 0, 0, 0, 0]), array([3, 0, 0, 0, 0, 0, 0, 0, 0, 1]), array([3, 0, 0, 0, 0, 0, 0, 0, 0, 1]), array([3, 0, 0, 0, 0, 1, 0, 0, 0, 2]), array([9, 1, 0, 1, 0, 1, 1, 0, 0, 1]), array([0, 0, 0, 0, 0, 2, 0, 0, 0, 0]), array([16,  3,  1,  0,  0,  0,  0,  0,  0,  1]), array([0, 0, 0, 0, 0, 2, 0, 0, 0, 0]), array([12,  0,  1,  0,  0,  0,  0,  0,  0,  2]), array([5, 0, 0, 0, 0, 0, 0, 0, 0, 1]), array([9, 0, 0, 0, 0, 0, 0, 0, 0, 2]), array([9, 0, 0, 0, 0, 2, 0, 0, 0, 1]), array([0, 0, 0, 0, 0, 1, 0, 0, 0, 0]), array([16,  0,  0,  0,  0,  2,  0,  0,  0,  1]), array([0, 0, 0, 0, 0, 3, 0, 0, 0, 0]), array([0, 0, 0, 0, 0, 0, 0, 0, 0, 0]), array([0, 0, 0, 0, 0, 0, 0, 0, 0, 0]), array([10,  0,  0,  0,  0,  1,  0,  0,  0,  1]), array([22,  0,  0,  0,  0,  5,  0,  0,  0,  3]), array([2, 0, 0, 0, 0, 0, 0, 0, 0, 1]), array([5, 0, 0, 0, 0, 0, 0, 0, 0, 1]), array([0, 0, 0, 0, 0, 2, 0, 0, 0, 0]), array([17,  0,  4,  0,  0,  2,  0,  0,  0,  1]), array([7, 0, 0, 0, 0, 0, 0, 0, 0, 3]), array([12,  0,  0,  1,  0,  0,  0,  0,  0,  1]), array([2, 0, 0, 0, 0, 0, 0, 0, 0, 1]), array([0, 0, 0, 0, 0, 2, 0, 0, 0, 0]), array([0, 0, 0, 0, 0, 5, 0, 0, 0, 0]), array([19,  0,  0,  5,  0,  0,  1,  0,  0,  1]), array([2, 0, 0, 0, 0, 0, 0, 0, 0, 1]), array([2, 0, 3, 0, 0, 0, 0, 0, 0, 1]), array([0, 0, 0, 0, 0, 6, 0, 0, 0, 0]), array([0, 0, 0, 0, 0, 2, 0, 0, 0, 0]), array([7, 0, 0, 0, 0, 3, 0, 0, 0, 2]), array([2, 0, 0, 0, 0, 0, 0, 0, 0, 1]), array([0, 0, 0, 0, 0, 3, 0, 0, 0, 0]), array([0, 0, 0, 0, 0, 2, 0, 0, 0, 0]), array([25,  0,  0,  0,  0,  3,  0,  0,  0,  4]), array([0, 0, 0, 0, 0, 1, 0, 0, 0, 0]), array([0, 0, 0, 0, 0, 0, 0, 0, 0, 0]), array([0, 0, 0, 0, 0, 1, 0, 0, 0, 0]), array([0, 0, 0, 0, 0, 6, 0, 0, 0, 0]), array([3, 0, 0, 0, 0, 0, 0, 0, 0, 2]), array([6, 0, 1, 0, 0, 0, 0, 0, 0, 1]), array([8, 0, 0, 0, 0, 0, 0, 0, 0, 1]), array([9, 0, 1, 0, 0, 0, 0, 0, 0, 1]), array([0, 0, 0, 0, 0, 7, 0, 0, 0, 0]), array([1, 0, 0, 0, 0, 0, 0, 0, 0, 1])]\n"
     ]
    }
   ],
   "source": [
    "print(data)"
   ]
  },
  {
   "cell_type": "code",
   "execution_count": 13,
   "metadata": {},
   "outputs": [],
   "source": [
    "maxlen = 0\n",
    "for arr in data:\n",
    "    if len(arr) > maxlen:\n",
    "        maxlen = len(arr)"
   ]
  },
  {
   "cell_type": "code",
   "execution_count": 14,
   "metadata": {},
   "outputs": [
    {
     "name": "stdout",
     "output_type": "stream",
     "text": [
      "10\n"
     ]
    }
   ],
   "source": [
    "print(maxlen)"
   ]
  },
  {
   "cell_type": "code",
   "execution_count": 18,
   "metadata": {},
   "outputs": [],
   "source": [
    "data = np.array(data)"
   ]
  },
  {
   "cell_type": "code",
   "execution_count": 46,
   "metadata": {},
   "outputs": [],
   "source": [
    "def autolabel(rects):\n",
    "    \"\"\"Attach a text label above each bar in *rects*, displaying its height.\"\"\"\n",
    "    for rect in rects:\n",
    "        height = rect.get_height()\n",
    "        ax.annotate('{}'.format(height),\n",
    "                    xy=(rect.get_x() + rect.get_width() / 2, height),\n",
    "                    xytext=(0, 3),  # 3 points vertical offset\n",
    "                    textcoords=\"offset points\",\n",
    "                    ha='center', va='center', color=\"black\", fontsize=6, fontweight=\"bold\")"
   ]
  },
  {
   "cell_type": "code",
   "execution_count": 48,
   "metadata": {},
   "outputs": [],
   "source": [
    "x = np.arange(len(labels))\n",
    "bottom = None\n",
    "forlegend = []\n",
    "labelsForLegend = []\n",
    "for i in range(0, maxlen):\n",
    "    forPlot = []\n",
    "    for j in data:\n",
    "        try:\n",
    "            forPlot.append(j[i])\n",
    "        except:\n",
    "            forPlot.append(0)\n",
    "    rects = ax.bar(x, forPlot, label=f\"{i+1}\")\n",
    "    autolabel(rects)\n",
    "    if bottom == None:\n",
    "        bottom = forPlot\n",
    "    else:\n",
    "        bottom += forPlot\n",
    "    forlegend.append(rects[0])\n",
    "    labelsForLegend.append(f\"{i+1}\")"
   ]
  },
  {
   "cell_type": "code",
   "execution_count": 44,
   "metadata": {},
   "outputs": [
    {
     "data": {
      "image/png": "[encoded data removed]",
      "text/plain": [
       "<Figure size 432x288 with 1 Axes>"
      ]
     },
     "execution_count": 44,
     "metadata": {},
     "output_type": "execute_result"
    }
   ],
   "source": [
    "fig, ax = plt.subplots(figsize=(15, 10))\n",
    "ax.set_title('Number of Donors with SVs in Genes and Number of SVs in Genes')\n",
    "ax.set_ylabel('Number of Donors/SVs')\n",
    "ax.set_xlabel('Genes')\n",
    "ax.set_title('Number of Donors with SVs in Genes and Number of SVs in Genes')\n",
    "ax.set_xticks(x)\n",
    "plt.xticks(rotation=90)\n",
    "ax.set_xticklabels(labels)\n",
    "\n",
    "fig.legend(forlegend, labelsForLegend)\n",
    "fig"
   ]
  },
  {
   "cell_type": "code",
   "execution_count": 41,
   "metadata": {},
   "outputs": [
    {
     "data": {
      "text/plain": [
       "array([95, 19,  0,  7,  0,  2,  1,  0,  0,  1])"
      ]
     },
     "execution_count": 41,
     "metadata": {},
     "output_type": "execute_result"
    }
   ],
   "source": [
    "test = parser.getNumOfDonorsWithBuckets('RAD51B')\n",
    "np.histogram(test)[0]"
   ]
  },
  {
   "cell_type": "code",
   "execution_count": null,
   "metadata": {},
   "outputs": [],
   "source": []
  }
 ],
 "metadata": {
  "kernelspec": {
   "display_name": "Python 3",
   "language": "python",
   "name": "python3"
  },
  "language_info": {
   "codemirror_mode": {
    "name": "ipython",
    "version": 3
   },
   "file_extension": ".py",
   "mimetype": "text/x-python",
   "name": "python",
   "nbconvert_exporter": "python",
   "pygments_lexer": "ipython3",
   "version": "3.7.3"
  }
 },
 "nbformat": 4,
 "nbformat_minor": 4
}
