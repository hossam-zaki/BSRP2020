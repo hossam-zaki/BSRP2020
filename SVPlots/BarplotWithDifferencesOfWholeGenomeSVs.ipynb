{
 "cells": [
  {
   "cell_type": "code",
   "execution_count": 1,
   "metadata": {},
   "outputs": [],
   "source": [
    "%matplotlib inline\n",
    "\n",
    "import json\n",
    "import urllib\n",
    "\n",
    "import matplotlib.pyplot as plt\n",
    "import numpy as np\n",
    "import pandas as pd\n",
    "from matplotlib.patches import Polygon\n",
    "from scipy import stats\n",
    "\n",
    "import dataParser as parser\n",
    "import helperFiles.buildPlot as plotBuilder"
   ]
  },
  {
   "cell_type": "code",
   "execution_count": 2,
   "metadata": {},
   "outputs": [],
   "source": [
    "df = pd.read_csv('../merged_1.6.1.csv')\n",
    "\n",
    "data = []\n",
    "labels = []"
   ]
  },
  {
   "cell_type": "code",
   "execution_count": 3,
   "metadata": {},
   "outputs": [
    {
     "name": "stdout",
     "output_type": "stream",
     "text": [
      "{'Nonhomologous end-joining': ['XRCC6', 'XRCC5', 'PRKDC', 'LIG4', 'XRCC4', 'DCLRE1C', 'NHEJ1'], 'Microhomology end-joining': ['MRE11', 'RAD50', 'NBN', 'RBBP8', 'ERCC4', 'ERCC1', 'LIG1', 'POLL', 'POLB', 'PARP1', 'LIG3', 'XRCC1'], 'Homologous recombination': ['RAD51', 'RAD51B', 'RAD51D', 'DMC1', 'XRCC2', 'XRCC3', 'RAD52', 'RAD54L', 'RAD54B', 'BRCA1', 'SHFM1', 'RAD50', 'MRE11', 'NBN', 'RBBP8', 'MUS81', 'EME1', 'EME2', 'GIYD1', 'GIYD2', 'GEN1'], 'Base excision repair': ['UNG', 'SMUG1', 'MBD4', 'TDG', 'OGG1', 'MUTYH', 'NTHL1', 'MPG', 'NEIL1', 'NEIL2', 'NEIL3', 'APEX1', 'APEX2', 'LIG3', 'XRCC1', 'PNKP', 'APLF', 'PARP1', 'PARP2', 'PARP3', 'MGMT', 'ALKBH2', 'ALKBH3'], 'Repair of DNA-topoisomerase crosslinks': ['TDP1', 'TDP2'], 'Mismatch excision repair': ['MSH2', 'MSH3', 'MSH6', 'MLH1', 'PMS2', 'MSH4', 'MSH5', 'MLH3', 'PMS1', 'PMS2L3'], 'Nucleotide excision repair': ['RAD23B', 'CETN2', 'RAD23A', 'XPA', 'DDB1', 'DDB2', 'RPA1', 'RPA2', 'RPA3', 'TFIIH', 'ERCC3', 'ERCC2', 'GTF2H1', 'GTF2H2', 'GTF2H3', 'GTF2H4', 'GTF2H5', 'CDK7', 'CCNH', 'MNAT1', 'ERCC5', 'ERCC1', 'ERCC4', 'LIG1', 'ERCC8', 'ERCC6', 'UVSSA', 'XAB2', 'MMS19'], 'Fanconi anemia': ['FANCA', 'FANCB', 'FANCC', 'BRCA2', 'FANCD2', 'FANCE', 'FANCF', 'FANCG', 'FANCI', 'BRIP1', 'FANCL', 'FANCM', 'PALB2', 'RAD51C', 'BTBD12', 'FAAP20', 'FAAP24'], 'Modulation of nucleotide pools': ['NUDT1', 'DUT', 'RRM2B'], 'DNA polymerases': ['POLB', 'POLG', 'POLD1', 'POLE', 'PCNA', 'REV3L', 'MAD2L2', 'REV1L', 'POLH', 'POLI', 'POLQ', 'POLK', 'POLL', 'POLM', 'POLN'], 'Editing and processing nucleases': ['FEN1', 'FAN1', 'TREX1', 'TREX2', 'EXO1', 'APTX', 'SPO11', 'ENDOV'], 'Ubiquitination and modification': ['UBE2A', 'UBE2B', 'RAD18', 'SHPRH', 'HLTF', 'RNF168', 'SPRTN', 'RNF8', 'RNF4', 'UBE2V2', 'UBE2N'], 'Chromatin Structure and Modification': ['H2AFX', 'CHAF1A', 'SETMAR'], 'Other conserved DNA damage response genes': ['ATR', 'ATRIP', 'MDC1', 'RAD1', 'RAD9A', 'HUS1', 'RAD17', 'CHEK1', 'CHEK2', 'TP53', 'TP53BP1', 'RIF1', 'TOPBP1', 'CLK2', 'PER1']}\n"
     ]
    }
   ],
   "source": [
    "print(parser.samples)"
   ]
  },
  {
   "cell_type": "code",
   "execution_count": 4,
   "metadata": {},
   "outputs": [
    {
     "name": "stdout",
     "output_type": "stream",
     "text": [
      "{'RAD52', 'TP53', 'CDK7', 'RAD54L', 'DCLRE1C', 'FANCI', 'FANCE', 'ALKBH2', 'CCNH', 'XRCC2', 'TDP1', 'SETMAR', 'RAD51C', 'MPG', 'FANCD2', 'SPO11', 'POLD1', 'UBE2V2', 'RNF168', 'HUS1', 'UBE2A', 'GTF2H2', 'POLH', 'POLE', 'MMS19', 'FANCA', 'MUTYH', 'ERCC3', 'RAD51', 'POLN', 'UBE2N', 'PCNA', 'ERCC6', 'FANCC', 'PMS2L3', 'GTF2H3', 'PER1', 'ERCC4', 'POLB', 'RAD9A', 'UVSSA', 'RPA1', 'XRCC1', 'RIF1', 'FANCG', 'APEX1', 'RAD54B', 'PARP1', 'PARP3', 'ENDOV', 'TREX1', 'RBBP8', 'EXO1', 'BRCA1', 'MDC1', 'NUDT1', 'GEN1', 'RAD50', 'FAAP24', 'TDP2', 'NTHL1', 'PMS2', 'MSH6', 'LIG1', 'GIYD2', 'MLH1', 'ERCC8', 'CHEK2', 'HLTF', 'SHFM1', 'POLI', 'XRCC6', 'NHEJ1', 'XRCC4', 'MRE11', 'GIYD1', 'ATR', 'DDB1', 'MBD4', 'UBE2B', 'SPRTN', 'POLG', 'MLH3', 'POLM', 'DDB2', 'RAD23B', 'UNG', 'MSH4', 'MSH2', 'XRCC5', 'CETN2', 'POLL', 'ERCC2', 'FEN1', 'PARP2', 'ALKBH3', 'MGMT', 'MSH3', 'RAD18', 'PMS1', 'LIG4', 'LIG3', 'XPA', 'PALB2', 'CHEK1', 'CHAF1A', 'REV3L', 'MNAT1', 'POLQ', 'RAD17', 'RAD23A', 'POLK', 'NBN', 'H2AFX', 'MSH5', 'OGG1', 'RPA2', 'BTBD12', 'RNF4', 'RAD51B', 'SHPRH', 'APEX2', 'FANCL', 'RNF8', 'GTF2H1', 'FANCB', 'NEIL2', 'TDG', 'XRCC3', 'FAAP20', 'CLK2', 'EME2', 'XAB2', 'BRIP1', 'TREX2', 'APTX', 'FANCF', 'ATRIP', 'RAD1', 'SMUG1', 'TFIIH', 'RRM2B', 'FAN1', 'APLF', 'PNKP', 'GTF2H5', 'ERCC1', 'DMC1', 'PRKDC', 'DUT', 'ERCC5', 'MAD2L2', 'EME1', 'FANCM', 'TOPBP1', 'MUS81', 'RAD51D', 'NEIL3', 'BRCA2', 'RPA3', 'REV1L', 'GTF2H4', 'NEIL1', 'TP53BP1'}\n"
     ]
    }
   ],
   "source": [
    "inputs = set()\n",
    "samples = parser.samples\n",
    "for category in samples:\n",
    "    for gene in samples[category]:\n",
    "        inputs.add(gene)\n",
    "print(inputs)"
   ]
  },
  {
   "cell_type": "code",
   "execution_count": null,
   "metadata": {},
   "outputs": [
    {
     "name": "stdout",
     "output_type": "stream",
     "text": [
      "RAD52\n",
      "9.112298010487913e-06\n",
      "TP53\n",
      "0.8675734941287405\n",
      "CDK7\n",
      "nan\n",
      "RAD54L\n",
      "0.0014816305880700697\n",
      "DCLRE1C\n",
      "1.1057408222510404e-15\n",
      "FANCI\n",
      "0.12379565852031271\n",
      "FANCE\n",
      "0.09836791172071747\n",
      "ALKBH2\n"
     ]
    },
    {
     "name": "stderr",
     "output_type": "stream",
     "text": [
      "/Library/Frameworks/Python.framework/Versions/3.7/lib/python3.7/site-packages/numpy/core/fromnumeric.py:3584: RuntimeWarning: Degrees of freedom <= 0 for slice\n",
      "  **kwargs)\n",
      "/Library/Frameworks/Python.framework/Versions/3.7/lib/python3.7/site-packages/numpy/core/_methods.py:209: RuntimeWarning: invalid value encountered in double_scalars\n",
      "  ret = ret.dtype.type(ret / rcount)\n"
     ]
    },
    {
     "name": "stdout",
     "output_type": "stream",
     "text": [
      "nan\n",
      "CCNH\n",
      "0.0031255931946823747\n",
      "XRCC2\n",
      "1.3380344297979772e-05\n",
      "TDP1\n",
      "0.0005195028837750801\n",
      "SETMAR\n",
      "3.125180449408741e-05\n",
      "RAD51C\n",
      "1.030990788504844e-12\n",
      "MPG\n",
      "nan\n",
      "FANCD2\n",
      "3.5905952606526257e-17\n",
      "SPO11\n",
      "3.079750999658559e-06\n",
      "POLD1\n",
      "1.0509060424015153e-21\n",
      "UBE2V2\n",
      "0.4715591615067086\n",
      "RNF168\n",
      "0.7203456547325313\n",
      "HUS1\n",
      "nan\n",
      "UBE2A\n",
      "invalid literal for int() with base 10: 'X'\n",
      "https://rest.ensembl.org/lookup/symbol/homo_sapiens/UBE2A?content-type=application/json;expand=1\n",
      "symb got fricked\n",
      "nan\n",
      "GTF2H2\n",
      "nan\n",
      "POLH\n",
      "0.0019056552566987823\n",
      "POLE\n",
      "6.345111772667492e-09\n",
      "MMS19\n",
      "0.141867180752654\n",
      "FANCA\n",
      "6.348688907805675e-10\n",
      "MUTYH\n",
      "nan\n",
      "ERCC3\n",
      "nan\n",
      "RAD51\n",
      "0.6727184003648654\n",
      "POLN\n",
      "1.9064014188998064e-06\n",
      "UBE2N\n",
      "5.379204397458186e-10\n",
      "PCNA\n",
      "0.9624179566741957\n",
      "ERCC6\n",
      "5.837198745372309e-05\n",
      "FANCC\n",
      "1.1864611240045823e-29\n",
      "PMS2L3\n",
      "HTTP Error 400: Bad Request\n",
      "https://rest.ensembl.org/lookup/symbol/homo_sapiens/PMS2L3?content-type=application/json;expand=1\n",
      "symb got fricked\n",
      "nan\n",
      "GTF2H3\n",
      "3.581528711820842e-06\n",
      "PER1\n",
      "0.41948011203981717\n",
      "ERCC4\n",
      "nan\n",
      "POLB\n",
      "0.004266016259467122\n",
      "RAD9A\n",
      "1.2359113304059913e-14\n",
      "UVSSA\n",
      "0.00011647837817173482\n",
      "RPA1\n",
      "1.9943220099486137e-08\n",
      "XRCC1\n",
      "0.010336661231414466\n",
      "RIF1\n",
      "0.033054857915190826\n",
      "FANCG\n",
      "nan\n",
      "APEX1\n",
      "nan\n",
      "RAD54B\n"
     ]
    }
   ],
   "source": [
    "pValues = []\n",
    "for gene in inputs:\n",
    "    print(gene)\n",
    "    all_donors = df['donor_unique_id'].unique()\n",
    "    donorsInGene = parser.getDonors(gene)\n",
    "    diffDonors = parser.diff(all_donors, donorsInGene)\n",
    "\n",
    "    affected = []\n",
    "    notaffected = []\n",
    "\n",
    "    for donor in donorsInGene:\n",
    "        donorDF = df[(df['donor_unique_id'] == donor)]\n",
    "        affected.append(len(donorDF.index))\n",
    "\n",
    "    for donor in diffDonors:\n",
    "        donorDF = df[(df['donor_unique_id'] == donor)]\n",
    "        notaffected.append(len(donorDF.index))\n",
    "\n",
    "    data.append(notaffected)\n",
    "    data.append(affected)\n",
    "    labels.append(\"Regular \" + gene)\n",
    "    labels.append(gene)\n",
    "    value = stats.ttest_ind(affected, notaffected)[1]\n",
    "    pValues.append(value)\n",
    "    print(value)"
   ]
  },
  {
   "cell_type": "code",
   "execution_count": null,
   "metadata": {},
   "outputs": [],
   "source": []
  }
 ],
 "metadata": {
  "kernelspec": {
   "display_name": "Python 3",
   "language": "python",
   "name": "python3"
  },
  "language_info": {
   "codemirror_mode": {
    "name": "ipython",
    "version": 3
   },
   "file_extension": ".py",
   "mimetype": "text/x-python",
   "name": "python",
   "nbconvert_exporter": "python",
   "pygments_lexer": "ipython3",
   "version": "3.7.3"
  }
 },
 "nbformat": 4,
 "nbformat_minor": 4
}
