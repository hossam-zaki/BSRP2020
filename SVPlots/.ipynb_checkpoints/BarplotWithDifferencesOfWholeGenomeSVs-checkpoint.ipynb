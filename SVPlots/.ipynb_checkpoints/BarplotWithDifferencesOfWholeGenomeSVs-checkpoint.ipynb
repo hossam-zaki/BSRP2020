{
 "cells": [
  {
   "cell_type": "code",
   "execution_count": 1,
   "metadata": {},
   "outputs": [],
   "source": [
    "%matplotlib inline\n",
    "\n",
    "import json\n",
    "import urllib\n",
    "\n",
    "import matplotlib.pyplot as plt\n",
    "import numpy as np\n",
    "import pandas as pd\n",
    "from matplotlib.patches import Polygon\n",
    "from scipy import stats\n",
    "\n",
    "import dataParser as parser\n",
    "import helperFiles.buildPlot as plotBuilder"
   ]
  },
  {
   "cell_type": "code",
   "execution_count": 2,
   "metadata": {},
   "outputs": [],
   "source": [
    "df = pd.read_csv('../merged_1.6.1.csv')\n",
    "\n",
    "data = []\n",
    "labels = []"
   ]
  },
  {
   "cell_type": "code",
   "execution_count": 3,
   "metadata": {},
   "outputs": [
    {
     "name": "stdout",
     "output_type": "stream",
     "text": [
      "{'Nonhomologous end-joining': ['XRCC6', 'XRCC5', 'PRKDC', 'LIG4', 'XRCC4', 'DCLRE1C', 'NHEJ1'], 'Microhomology end-joining': ['MRE11', 'RAD50', 'NBN', 'RBBP8', 'ERCC4', 'ERCC1', 'LIG1', 'POLL', 'POLB', 'PARP1', 'LIG3', 'XRCC1'], 'Homologous recombination': ['RAD51', 'RAD51B', 'RAD51D', 'DMC1', 'XRCC2', 'XRCC3', 'RAD52', 'RAD54L', 'RAD54B', 'BRCA1', 'SHFM1', 'RAD50', 'MRE11', 'NBN', 'RBBP8', 'MUS81', 'EME1', 'EME2', 'GIYD1', 'GIYD2', 'GEN1'], 'Base excision repair': ['UNG', 'SMUG1', 'MBD4', 'TDG', 'OGG1', 'MUTYH', 'NTHL1', 'MPG', 'NEIL1', 'NEIL2', 'NEIL3', 'APEX1', 'APEX2', 'LIG3', 'XRCC1', 'PNKP', 'APLF', 'PARP1', 'PARP2', 'PARP3', 'MGMT', 'ALKBH2', 'ALKBH3'], 'Repair of DNA-topoisomerase crosslinks': ['TDP1', 'TDP2'], 'Mismatch excision repair': ['MSH2', 'MSH3', 'MSH6', 'MLH1', 'PMS2', 'MSH4', 'MSH5', 'MLH3', 'PMS1', 'PMS2L3'], 'Nucleotide excision repair': ['RAD23B', 'CETN2', 'RAD23A', 'XPA', 'DDB1', 'DDB2', 'RPA1', 'RPA2', 'RPA3', 'TFIIH', 'ERCC3', 'ERCC2', 'GTF2H1', 'GTF2H2', 'GTF2H3', 'GTF2H4', 'GTF2H5', 'CDK7', 'CCNH', 'MNAT1', 'ERCC5', 'ERCC1', 'ERCC4', 'LIG1', 'ERCC8', 'ERCC6', 'UVSSA', 'XAB2', 'MMS19'], 'Fanconi anemia': ['FANCA', 'FANCB', 'FANCC', 'BRCA2', 'FANCD2', 'FANCE', 'FANCF', 'FANCG', 'FANCI', 'BRIP1', 'FANCL', 'FANCM', 'PALB2', 'RAD51C', 'BTBD12', 'FAAP20', 'FAAP24'], 'Modulation of nucleotide pools': ['NUDT1', 'DUT', 'RRM2B'], 'DNA polymerases': ['POLB', 'POLG', 'POLD1', 'POLE', 'PCNA', 'REV3L', 'MAD2L2', 'REV1L', 'POLH', 'POLI', 'POLQ', 'POLK', 'POLL', 'POLM', 'POLN'], 'Editing and processing nucleases': ['FEN1', 'FAN1', 'TREX1', 'TREX2', 'EXO1', 'APTX', 'SPO11', 'ENDOV'], 'Ubiquitination and modification': ['UBE2A', 'UBE2B', 'RAD18', 'SHPRH', 'HLTF', 'RNF168', 'SPRTN', 'RNF8', 'RNF4', 'UBE2V2', 'UBE2N'], 'Chromatin Structure and Modification': ['H2AFX', 'CHAF1A', 'SETMAR'], 'Other conserved DNA damage response genes': ['ATR', 'ATRIP', 'MDC1', 'RAD1', 'RAD9A', 'HUS1', 'RAD17', 'CHEK1', 'CHEK2', 'TP53', 'TP53BP1', 'RIF1', 'TOPBP1', 'CLK2', 'PER1']}\n"
     ]
    }
   ],
   "source": [
    "print(parser.samples)"
   ]
  },
  {
   "cell_type": "code",
   "execution_count": 5,
   "metadata": {},
   "outputs": [
    {
     "name": "stdout",
     "output_type": "stream",
     "text": [
      "{'RAD51B', 'UNG', 'ALKBH2', 'BRCA2', 'NTHL1', 'NEIL2', 'TREX2', 'RAD23B', 'REV3L', 'GTF2H2', 'PMS1', 'XRCC3', 'RAD52', 'NEIL3', 'PRKDC', 'NHEJ1', 'POLQ', 'EME2', 'FANCF', 'PER1', 'LIG4', 'PMS2L3', 'ERCC2', 'BTBD12', 'FANCL', 'SETMAR', 'MUS81', 'FAAP24', 'EXO1', 'FANCB', 'ENDOV', 'XRCC6', 'PMS2', 'DMC1', 'CDK7', 'APTX', 'RPA2', 'SPRTN', 'XRCC2', 'NBN', 'POLD1', 'REV1L', 'RAD23A', 'FAN1', 'FANCM', 'MNAT1', 'DCLRE1C', 'APLF', 'MDC1', 'FANCG', 'POLG', 'UBE2V2', 'NEIL1', 'DUT', 'MSH2', 'RAD9A', 'POLB', 'MPG', 'RAD50', 'POLL', 'APEX2', 'ATR', 'POLH', 'TDP2', 'UVSSA', 'RBBP8', 'FEN1', 'RPA1', 'ERCC6', 'TP53', 'PARP2', 'RAD17', 'DDB1', 'CHEK2', 'NUDT1', 'EME1', 'MRE11', 'POLI', 'BRIP1', 'TDP1', 'OGG1', 'MSH5', 'ERCC1', 'SHFM1', 'CHEK1', 'GEN1', 'XRCC5', 'ERCC4', 'FANCD2', 'RAD54B', 'RRM2B', 'MUTYH', 'MSH6', 'DDB2', 'SMUG1', 'FANCC', 'CCNH', 'PARP3', 'POLE', 'MAD2L2', 'ERCC5', 'RNF8', 'POLM', 'TDG', 'RPA3', 'FANCI', 'TREX1', 'GTF2H1', 'POLN', 'XRCC1', 'GTF2H4', 'XRCC4', 'BRCA1', 'ERCC8', 'RAD51', 'PARP1', 'RAD54L', 'CLK2', 'ERCC3', 'FANCA', 'PNKP', 'RIF1', 'ALKBH3', 'MMS19', 'RAD1', 'APEX1', 'RAD18', 'HLTF', 'TOPBP1', 'GIYD2', 'MLH3', 'PALB2', 'UBE2A', 'RAD51C', 'HUS1', 'ATRIP', 'MSH4', 'UBE2B', 'LIG1', 'TP53BP1', 'FAAP20', 'CHAF1A', 'PCNA', 'CETN2', 'MSH3', 'RNF168', 'XAB2', 'GTF2H3', 'MGMT', 'SPO11', 'UBE2N', 'H2AFX', 'FANCE', 'XPA', 'MLH1', 'POLK', 'RNF4', 'LIG3', 'TFIIH', 'GTF2H5', 'GIYD1', 'MBD4', 'SHPRH', 'RAD51D'}\n"
     ]
    }
   ],
   "source": [
    "inputs = set()\n",
    "samples = parser.samples\n",
    "for category in samples:\n",
    "    for gene in samples[category]:\n",
    "        inputs.add(gene)\n",
    "print(inputs)"
   ]
  },
  {
   "cell_type": "code",
   "execution_count": null,
   "metadata": {},
   "outputs": [],
   "source": [
    "pValues = []\n",
    "for gene in inputs:\n",
    "    print(gene)\n",
    "    all_donors = df['donor_unique_id'].unique()\n",
    "    donorsInGene = parser.getDonors(gene)\n",
    "    diffDonors = parser.diff(all_donors, donorsInGene)\n",
    "\n",
    "    affected = []\n",
    "    notaffected = []\n",
    "\n",
    "    for donor in donorsInGene:\n",
    "        donorDF = df[(df['donor_unique_id'] == donor)]\n",
    "        affected.append(len(donorDF.index))\n",
    "\n",
    "    for donor in diffDonors:\n",
    "        donorDF = df[(df['donor_unique_id'] == donor)]\n",
    "        notaffected.append(len(donorDF.index))\n",
    "\n",
    "    data.append(notaffected)\n",
    "    data.append(affected)\n",
    "    labels.append(\"Regular \" + gene)\n",
    "    labels.append(gene)\n",
    "    pvalues.append(stats.ttest_ind(affected, notaffected)[1])"
   ]
  }
 ],
 "metadata": {
  "kernelspec": {
   "display_name": "Python 3",
   "language": "python",
   "name": "python3"
  },
  "language_info": {
   "codemirror_mode": {
    "name": "ipython",
    "version": 3
   },
   "file_extension": ".py",
   "mimetype": "text/x-python",
   "name": "python",
   "nbconvert_exporter": "python",
   "pygments_lexer": "ipython3",
   "version": "3.7.3"
  }
 },
 "nbformat": 4,
 "nbformat_minor": 4
}
