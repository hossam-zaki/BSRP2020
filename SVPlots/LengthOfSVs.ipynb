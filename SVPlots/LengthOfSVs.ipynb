{
 "cells": [
  {
   "cell_type": "code",
   "execution_count": 1,
   "metadata": {},
   "outputs": [],
   "source": [
    "import json\n",
    "import urllib\n",
    "\n",
    "import matplotlib.pyplot as plt\n",
    "import numpy as np\n",
    "import pandas as pd\n",
    "from matplotlib.patches import Polygon\n",
    "from scipy import stats\n",
    "\n",
    "import dataParser as parser\n",
    "import helperFiles.buildPlot as plotBuilder"
   ]
  },
  {
   "cell_type": "code",
   "execution_count": 2,
   "metadata": {},
   "outputs": [],
   "source": [
    "df = pd.read_csv('../merged_1.6.1.csv')\n",
    "\n",
    "data = []\n",
    "labels = []\n",
    "#\n",
    "inputs = ['RAD51B', 'FANCA', 'NBN', 'POLQ', 'PRKDC', 'BRCA1']"
   ]
  },
  {
   "cell_type": "code",
   "execution_count": 3,
   "metadata": {},
   "outputs": [
    {
     "name": "stdout",
     "output_type": "stream",
     "text": [
      "RAD51B\n",
      "FANCA\n",
      "NBN\n",
      "POLQ\n",
      "PRKDC\n",
      "BRCA1\n"
     ]
    }
   ],
   "source": [
    "for gene in inputs:\n",
    "    print(gene)\n",
    "    geneDF, chromsome = parser.getGeneDF(gene)\n",
    "\n",
    "    geneData = []\n",
    "\n",
    "    for index, row in geneDF.iterrows():\n",
    "        if (int(row['seqnames']) == chromsome) and (int(row['altchr']) == chromsome):\n",
    "            geneData.append(int(row['altpos']) - int(row['start']))\n",
    "\n",
    "    data.append(geneData)\n",
    "    labels.append(gene)"
   ]
  },
  {
   "cell_type": "code",
   "execution_count": 4,
   "metadata": {},
   "outputs": [
    {
     "data": {
      "text/plain": [
       "F_onewayResult(statistic=7.427644609932401, pvalue=1.861461771510765e-06)"
      ]
     },
     "execution_count": 4,
     "metadata": {},
     "output_type": "execute_result"
    }
   ],
   "source": [
    "stats.f_oneway(data[0],data[1],data[2],data[3],data[4],data[5])"
   ]
  },
  {
   "cell_type": "code",
   "execution_count": 5,
   "metadata": {},
   "outputs": [
    {
     "data": {
      "text/plain": [
       "Text(0.815, 0.013, ' Average Value')"
      ]
     },
     "execution_count": 5,
     "metadata": {},
     "output_type": "execute_result"
    },
    {
     "data": {
      "image/png": "[encoded data removed]",
      "text/plain": [
       "<Figure size 720x432 with 1 Axes>"
      ]
     },
     "metadata": {
      "needs_background": "light"
     },
     "output_type": "display_data"
    }
   ],
   "source": [
    "fig, ax1 = plt.subplots(figsize=(10, 6))\n",
    "fig.canvas.set_window_title('A Boxplot Example')\n",
    "fig.subplots_adjust(left=0.075, right=0.95, top=0.9, bottom=0.25)\n",
    "\n",
    "bp = ax1.boxplot(data, notch=0, sym='+', vert=1, whis=1.5)\n",
    "plt.setp(bp['boxes'], color='black')\n",
    "plt.setp(bp['whiskers'], color='black')\n",
    "plt.setp(bp['fliers'], color='red', marker='+')\n",
    "\n",
    "# Add a horizontal grid to the plot, but make it very light in color\n",
    "# so we can use it for reading data values but not be distracting\n",
    "ax1.yaxis.grid(True, linestyle='-', which='major', color='lightgrey',\n",
    "               alpha=0.5)\n",
    "\n",
    "# Hide these grid behind plot objects\n",
    "ax1.set_axisbelow(True)\n",
    "ax1.set_title(\n",
    "    'Length of SVs in Genes')\n",
    "ax1.set_xlabel('Gene Name')\n",
    "ax1.set_ylabel('Length of SV')\n",
    "\n",
    "# Now fill the boxes with desired colors\n",
    "num_boxes = len(data)\n",
    "medians = np.empty(num_boxes)\n",
    "for i in range(num_boxes):\n",
    "    box = bp['boxes'][i]\n",
    "    boxX = []\n",
    "    boxY = []\n",
    "    for j in range(5):\n",
    "        boxX.append(box.get_xdata()[j])\n",
    "        boxY.append(box.get_ydata()[j])\n",
    "    box_coords = np.column_stack([boxX, boxY])\n",
    "    # Alternate between Dark Khaki and Royal Blue\n",
    "    ax1.add_patch(Polygon(box_coords, facecolor='white'))\n",
    "    # Now draw the median lines back over what we just filled in\n",
    "    med = bp['medians'][i]\n",
    "    medianX = []\n",
    "    medianY = []\n",
    "    for j in range(2):\n",
    "        medianX.append(med.get_xdata()[j])\n",
    "        medianY.append(med.get_ydata()[j])\n",
    "        ax1.plot(medianX, medianY, 'k')\n",
    "    medians[i] = medianY[0]\n",
    "    # Finally, overplot the sample averages, with horizontal alignment\n",
    "    # in the center of each box\n",
    "    ax1.plot(np.average(med.get_xdata()), np.average(data[i]),\n",
    "             color='w', marker='*', markeredgecolor='k')\n",
    "\n",
    "# Set the axes ranges and axes labels\n",
    "ax1.set_xlim(0.5, num_boxes + 0.5)\n",
    "top = 40000000\n",
    "bottom = 0\n",
    "ax1.set_ylim(bottom, top)\n",
    "ax1.set_xticklabels(labels,\n",
    "                    rotation=90, fontsize=8)\n",
    "\n",
    "# Due to the Y-axis scale being different across samples, it can be\n",
    "# hard to compare differences in medians across the samples. Add upper\n",
    "# X-axis tick labels with the sample medians to aid in comparison\n",
    "# (just use two decimal places of precision)\n",
    "pos = np.arange(num_boxes) + 1\n",
    "upper_labels = [str(np.round(s, 2)) for s in medians]\n",
    "weights = ['bold', 'semibold']\n",
    "for tick, label in zip(range(num_boxes), ax1.get_xticklabels()):\n",
    "    k = tick % 2\n",
    "    ax1.text(pos[tick], .95, upper_labels[tick],\n",
    "             transform=ax1.get_xaxis_transform(),\n",
    "             horizontalalignment='center', size='x-small',\n",
    "             weight=weights[k], color='black')\n",
    "\n",
    "# Finally, add a basic legend\n",
    "fig.text(0.80, 0.015, '*', color='white', backgroundcolor='silver',\n",
    "         weight='roman', size='medium')\n",
    "fig.text(0.815, 0.013, ' Average Value', color='black', weight='roman',\n",
    "         size='x-small')"
   ]
  },
  {
   "cell_type": "code",
   "execution_count": 6,
   "metadata": {},
   "outputs": [
    {
     "name": "stdout",
     "output_type": "stream",
     "text": [
      "p-value for RAD51B and FANCA: Ttest_indResult(statistic=-2.5462531322344546, pvalue=0.011870374244320237)\n",
      "p-value for RAD51B and NBN: Ttest_indResult(statistic=-3.353358665271791, pvalue=0.0010220277081042428)\n",
      "p-value for RAD51B and POLQ: Ttest_indResult(statistic=0.02600049423574568, pvalue=0.9792942348240437)\n",
      "p-value for RAD51B and PRKDC: Ttest_indResult(statistic=-6.023975231391413, pvalue=1.1290145053423497e-08)\n",
      "p-value for RAD51B and BRCA1: Ttest_indResult(statistic=-2.8093747896471686, pvalue=0.005621146610151163)\n"
     ]
    }
   ],
   "source": [
    "for i in range(1, len(labels)):\n",
    "    label = labels[i]\n",
    "    print(f\"p-value for RAD51B and {label}: {stats.ttest_ind(data[0], data[i])}\")"
   ]
  },
  {
   "cell_type": "code",
   "execution_count": 7,
   "metadata": {},
   "outputs": [
    {
     "name": "stdout",
     "output_type": "stream",
     "text": [
      "RAD51B\n",
      "FANCA\n",
      "NBN\n",
      "POLQ\n",
      "PRKDC\n",
      "BRCA1\n"
     ]
    }
   ],
   "source": [
    "forBarPlot = []\n",
    "for gene in inputs:\n",
    "    print(gene)\n",
    "    geneDF, chromsome = parser.getGeneDF(gene)\n",
    "\n",
    "    geneData = 0\n",
    "\n",
    "    for index, row in geneDF.iterrows():\n",
    "        if (int(row['seqnames'])) != (int(row['altchr'])):\n",
    "            geneData += 1\n",
    "\n",
    "    forBarPlot.append(geneData)\n"
   ]
  },
  {
   "cell_type": "code",
   "execution_count": 8,
   "metadata": {},
   "outputs": [
    {
     "name": "stdout",
     "output_type": "stream",
     "text": [
      "[41, 7, 5, 5, 3, 13]\n"
     ]
    },
    {
     "data": {
      "text/plain": [
       "[Text(0, 0, 'RAD51B'),\n",
       " Text(0, 0, 'FANCA'),\n",
       " Text(0, 0, 'NBN'),\n",
       " Text(0, 0, 'POLQ'),\n",
       " Text(0, 0, 'PRKDC'),\n",
       " Text(0, 0, 'BRCA1')]"
      ]
     },
     "execution_count": 8,
     "metadata": {},
     "output_type": "execute_result"
    },
    {
     "data": {
      "image/png": "[encoded data removed]",
      "text/plain": [
       "<Figure size 720x432 with 1 Axes>"
      ]
     },
     "metadata": {
      "needs_background": "light"
     },
     "output_type": "display_data"
    }
   ],
   "source": [
    "print(forBarPlot)\n",
    "\n",
    "fig1, ax = plt.subplots(figsize=(10, 6))\n",
    "ax.set_title('Basic Plot')\n",
    "x = np.arange(len(labels))\n",
    "rects = ax.bar(x, forBarPlot)\n",
    "ax.set_ylabel('Number of Rearragements')\n",
    "ax.set_xlabel('Gene')\n",
    "ax.set_title('Number of Interchromosomal Rearrangements per gene')\n",
    "ax.set_xticks(x)\n",
    "plt.xticks(rotation=90)\n",
    "ax.set_xticklabels(labels)"
   ]
  },
  {
   "cell_type": "code",
   "execution_count": null,
   "metadata": {},
   "outputs": [],
   "source": []
  }
 ],
 "metadata": {
  "kernelspec": {
   "display_name": "Python 3",
   "language": "python",
   "name": "python3"
  },
  "language_info": {
   "codemirror_mode": {
    "name": "ipython",
    "version": 3
   },
   "file_extension": ".py",
   "mimetype": "text/x-python",
   "name": "python",
   "nbconvert_exporter": "python",
   "pygments_lexer": "ipython3",
   "version": "3.7.3"
  }
 },
 "nbformat": 4,
 "nbformat_minor": 4
}
