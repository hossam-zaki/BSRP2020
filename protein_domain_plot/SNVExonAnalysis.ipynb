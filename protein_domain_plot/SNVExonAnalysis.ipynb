{
 "cells": [
  {
   "cell_type": "code",
   "execution_count": 1,
   "metadata": {},
   "outputs": [],
   "source": [
    "import json\n",
    "import re\n",
    "import subprocess\n",
    "import sys\n",
    "import urllib\n",
    "\n",
    "import ensembl_rest\n",
    "import matplotlib.patches as patches\n",
    "import matplotlib.pyplot as plt\n",
    "import pandas as pd\n",
    "import numpy as np\n",
    "\n",
    "import helperFiles.buildplot as plotBuilder\n",
    "import helperFiles.getUniprotRanges as proteinRanges\n",
    "import buildPlotWithDomains as domainBuilder"
   ]
  },
  {
   "cell_type": "code",
   "execution_count": 2,
   "metadata": {},
   "outputs": [],
   "source": [
    "startAndEndJson = json.load(urllib.request.urlopen(\n",
    "        \"https://dcc.icgc.org/api/v1/genes/ENSG00000182185\"))  # lift this\n",
    "start = plotBuilder.lift(startAndEndJson['start'])\n",
    "end = plotBuilder.lift(startAndEndJson['end'])"
   ]
  },
  {
   "cell_type": "code",
   "execution_count": 3,
   "metadata": {},
   "outputs": [
    {
     "name": "stdout",
     "output_type": "stream",
     "text": [
      "query=gene%3Arad51b+organism%3Ahuman&format=list&columns=id&limit=1\n",
      "O15315\n",
      "yee\n",
      "('1', '384')\n",
      "yo\n",
      "yee\n",
      "('108', '115')\n",
      "yo\n",
      "yee\n",
      "('1', '75')\n",
      "yo\n",
      "yee\n",
      "('252', '253')\n",
      "yo\n",
      "yee\n",
      "('1', '119')\n",
      "yo\n",
      "yee\n",
      "('346', '384')\n",
      "yo\n",
      "yee\n",
      "('346', '384')\n",
      "yo\n",
      "yee\n",
      "('347', '384')\n",
      "yo\n"
     ]
    }
   ],
   "source": [
    "ranges = domainBuilder.buildRanges()"
   ]
  },
  {
   "cell_type": "code",
   "execution_count": 4,
   "metadata": {},
   "outputs": [
    {
     "name": "stdout",
     "output_type": "stream",
     "text": [
      "{'DNA repair protein RAD51 homolog 2': [('68468172', '68468250'), ('67835080', '67835196'), ('68594485', '68594600'), ('67887021', '67887204'), ('67865003', '67865139'), ('68411424', '68411527'), ('67825464', '67825577'), ('67823544', '67823627'), ('68291884', '68291980'), ('67885869', '67885988')], 'ATP': [('67865009', '67865032')], 'Interaction with RAD51C': [('67825464', '67825577'), ('67835080', '67835106'), ('67823544', '67823627')], 'Breakpoint for translocation to form HMGA2-RAD51B': [('67887202', '67887204'), ('68291884', '68291886')], 'In isoform 5.': [('67865003', '67865044'), ('67825464', '67825577'), ('67823544', '67823627'), ('67835080', '67835196')], 'In isoform 2.': [('68594485', '68594600')], 'In isoform 3 and isoform 5.': [('68594485', '68594600')], 'In isoform 4.': [('68594487', '68594600')]}\n"
     ]
    }
   ],
   "source": [
    "print(ranges)"
   ]
  },
  {
   "cell_type": "code",
   "execution_count": 5,
   "metadata": {},
   "outputs": [],
   "source": [
    "data = np.zeros((len(ranges)))"
   ]
  },
  {
   "cell_type": "code",
   "execution_count": 6,
   "metadata": {},
   "outputs": [],
   "source": [
    "from pyliftover import LiftOver\n",
    "lo = LiftOver('hg19', 'hg38')\n",
    "def lift(coord):\n",
    "    return lo.convert_coordinate('chr14', coord)[0][1]"
   ]
  },
  {
   "cell_type": "code",
   "execution_count": 7,
   "metadata": {},
   "outputs": [
    {
     "name": "stdout",
     "output_type": "stream",
     "text": [
      "[0. 0. 0. 0. 0. 0. 0. 0.]\n",
      "0\n",
      "100\n",
      "200\n",
      "300\n",
      "400\n",
      "500\n",
      "600\n",
      "700\n",
      "800\n",
      "900\n",
      "1000\n",
      "1100\n",
      "1200\n",
      "1300\n",
      "1400\n",
      "1500\n",
      "1600\n",
      "1700\n",
      "1800\n",
      "1900\n",
      "2000\n",
      "2100\n",
      "2200\n",
      "2300\n",
      "2400\n",
      "2500\n",
      "2600\n",
      "2700\n",
      "2800\n",
      "2900\n",
      "3000\n",
      "3100\n",
      "3200\n",
      "3300\n",
      "3400\n",
      "3500\n",
      "3600\n",
      "3700\n",
      "3800\n",
      "3900\n",
      "4000\n",
      "4100\n",
      "4200\n",
      "4300\n",
      "4400\n",
      "4500\n",
      "4600\n",
      "4700\n",
      "4800\n",
      "4900\n",
      "5000\n",
      "5100\n",
      "5200\n",
      "5300\n",
      "5400\n",
      "5500\n",
      "5600\n",
      "5700\n",
      "5800\n",
      "5900\n",
      "6000\n",
      "6100\n",
      "6200\n",
      "6300\n",
      "6400\n",
      "6500\n",
      "6600\n",
      "6700\n",
      "6800\n",
      "6900\n",
      "7000\n",
      "7100\n",
      "7200\n",
      "7300\n",
      "7400\n",
      "7500\n",
      "7600\n",
      "7700\n",
      "7800\n",
      "7900\n",
      "8000\n",
      "8100\n",
      "8200\n",
      "8300\n",
      "8400\n",
      "8500\n",
      "8600\n",
      "8700\n",
      "8800\n",
      "8900\n",
      "9000\n",
      "9100\n",
      "9200\n",
      "9300\n",
      "9400\n",
      "9500\n",
      "9600\n",
      "9700\n",
      "9800\n",
      "9900\n",
      "10000\n",
      "10100\n",
      "10200\n",
      "10300\n",
      "10400\n",
      "10500\n",
      "10600\n",
      "10700\n",
      "10800\n",
      "10900\n",
      "11000\n",
      "11100\n",
      "11200\n",
      "11300\n",
      "11400\n",
      "11500\n",
      "11600\n",
      "11700\n",
      "11800\n",
      "11900\n",
      "12000\n",
      "12100\n",
      "12200\n",
      "12300\n",
      "12400\n",
      "12500\n",
      "12600\n",
      "12700\n",
      "12800\n",
      "12900\n",
      "13000\n"
     ]
    }
   ],
   "source": [
    "numberOfSeqs = json.load(urllib.request.urlopen(\n",
    "        \"http://dcc.icgc.org/api/v1/genes/ENSG00000182185/mutations/count\"))\n",
    "counter = 0\n",
    "to_nearest_hunderd = 101 - (numberOfSeqs % 100)\n",
    "placeInGenome = []\n",
    "numberOfOccurences = []\n",
    "#\n",
    "print(data)\n",
    "for i in range(0, numberOfSeqs+to_nearest_hunderd, 100):\n",
    "    try:\n",
    "        json_file = json.load(urllib.request.urlopen(\n",
    "            f\"https://dcc.icgc.org/api/v1/genes/ENSG00000182185/mutations?from={i}&size=100\"))\n",
    "    except:\n",
    "        print(f\"{i} got messed\")\n",
    "    print(i)\n",
    "\n",
    "    for hit in json_file['hits']:\n",
    "        if hit['type'] == 'single base substitution':\n",
    "            counter = 0\n",
    "            for j in ranges:\n",
    "                for k in range(len(ranges[j])):\n",
    "                    if(lift(hit['start']) in range(int(ranges[j][k][0]), int(ranges[j][k][1]))):\n",
    "                        data[counter]+=1\n",
    "                counter +=1"
   ]
  },
  {
   "cell_type": "code",
   "execution_count": 8,
   "metadata": {},
   "outputs": [
    {
     "name": "stdout",
     "output_type": "stream",
     "text": [
      "[97.  3. 25.  0. 32.  4.  4.  4.]\n"
     ]
    }
   ],
   "source": [
    "print(data)"
   ]
  },
  {
   "cell_type": "code",
   "execution_count": 9,
   "metadata": {},
   "outputs": [
    {
     "data": {
      "text/plain": [
       "[97.0, 3.0, 25.0, 0.0, 32.0, 4.0, 4.0, 4.0]"
      ]
     },
     "execution_count": 9,
     "metadata": {},
     "output_type": "execute_result"
    }
   ],
   "source": [
    "listedData = data.tolist()\n",
    "listedData"
   ]
  },
  {
   "cell_type": "code",
   "execution_count": 10,
   "metadata": {},
   "outputs": [
    {
     "data": {
      "text/plain": [
       "['DNA repair protein RAD51 homolog 2',\n",
       " 'ATP',\n",
       " 'Interaction with RAD51C',\n",
       " 'Breakpoint for translocation to form HMGA2-RAD51B',\n",
       " 'In isoform 5.',\n",
       " 'In isoform 2.',\n",
       " 'In isoform 3 and isoform 5.',\n",
       " 'In isoform 4.']"
      ]
     },
     "execution_count": 10,
     "metadata": {},
     "output_type": "execute_result"
    }
   ],
   "source": [
    "labels = []\n",
    "for i in ranges:\n",
    "    labels.append(i)\n",
    "labels"
   ]
  },
  {
   "cell_type": "code",
   "execution_count": 15,
   "metadata": {},
   "outputs": [
    {
     "data": {
      "image/png": "[encoded data removed]",
      "text/plain": [
       "<Figure size 432x288 with 1 Axes>"
      ]
     },
     "metadata": {
      "needs_background": "light"
     },
     "output_type": "display_data"
    }
   ],
   "source": [
    "import matplotlib.pyplot as plt\n",
    "fig = plt.figure()\n",
    "ax = fig.add_axes([0,0,1,1])\n",
    "langs = labels[1:4]\n",
    "students = listedData[1:4]\n",
    "plt.xticks(rotation=45, fontsize=11)\n",
    "ax.bar(langs,students)\n",
    "plt.title(\"Number of SNVs in main protein features\")\n",
    "plt.ylabel(\"Number of SNVs\", fontsize=13)\n",
    "plt.show()"
   ]
  },
  {
   "cell_type": "code",
   "execution_count": null,
   "metadata": {},
   "outputs": [],
   "source": []
  }
 ],
 "metadata": {
  "kernelspec": {
   "display_name": "Python 3",
   "language": "python",
   "name": "python3"
  },
  "language_info": {
   "codemirror_mode": {
    "name": "ipython",
    "version": 3
   },
   "file_extension": ".py",
   "mimetype": "text/x-python",
   "name": "python",
   "nbconvert_exporter": "python",
   "pygments_lexer": "ipython3",
   "version": "3.7.3"
  }
 },
 "nbformat": 4,
 "nbformat_minor": 4
}
