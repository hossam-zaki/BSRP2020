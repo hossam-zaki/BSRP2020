{
 "cells": [
  {
   "cell_type": "code",
   "execution_count": 1,
   "metadata": {},
   "outputs": [],
   "source": [
    "import json\n",
    "import re\n",
    "import subprocess\n",
    "import sys\n",
    "import urllib\n",
    "\n",
    "import ensembl_rest\n",
    "import matplotlib.patches as patches\n",
    "import matplotlib.pyplot as plt\n",
    "import pandas as pd\n",
    "import numpy as np\n",
    "\n",
    "import helperFiles.buildplot as plotBuilder\n",
    "import helperFiles.getUniprotRanges as proteinRanges\n",
    "import buildPlotWithDomains as domainBuilder"
   ]
  },
  {
   "cell_type": "code",
   "execution_count": 2,
   "metadata": {},
   "outputs": [],
   "source": [
    "startAndEndJson = json.load(urllib.request.urlopen(\n",
    "        \"https://dcc.icgc.org/api/v1/genes/ENSG00000182185\"))  # lift this\n",
    "start = plotBuilder.lift(startAndEndJson['start'])\n",
    "end = plotBuilder.lift(startAndEndJson['end'])"
   ]
  },
  {
   "cell_type": "code",
   "execution_count": 3,
   "metadata": {},
   "outputs": [
    {
     "name": "stdout",
     "output_type": "stream",
     "text": [
      "query=gene%3Arad51b+organism%3Ahuman&format=list&columns=id&limit=1\n",
      "O15315\n",
      "yee\n",
      "('1', '384')\n",
      "yo\n",
      "yee\n",
      "('108', '115')\n",
      "yo\n",
      "yee\n",
      "('1', '75')\n",
      "yo\n",
      "yee\n",
      "('252', '253')\n",
      "yo\n",
      "yee\n",
      "('1', '119')\n",
      "yo\n",
      "yee\n",
      "('346', '384')\n",
      "yo\n",
      "yee\n",
      "('346', '384')\n",
      "yo\n",
      "yee\n",
      "('347', '384')\n",
      "yo\n"
     ]
    }
   ],
   "source": [
    "ranges = domainBuilder.buildRanges()"
   ]
  },
  {
   "cell_type": "code",
   "execution_count": null,
   "metadata": {},
   "outputs": [],
   "source": []
  }
 ],
 "metadata": {
  "kernelspec": {
   "display_name": "Python 3",
   "language": "python",
   "name": "python3"
  },
  "language_info": {
   "codemirror_mode": {
    "name": "ipython",
    "version": 3
   },
   "file_extension": ".py",
   "mimetype": "text/x-python",
   "name": "python",
   "nbconvert_exporter": "python",
   "pygments_lexer": "ipython3",
   "version": "3.7.3"
  }
 },
 "nbformat": 4,
 "nbformat_minor": 4
}
